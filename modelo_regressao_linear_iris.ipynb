{
  "nbformat": 4,
  "nbformat_minor": 0,
  "metadata": {
    "colab": {
      "provenance": [],
      "collapsed_sections": [],
      "authorship_tag": "ABX9TyPV8CRcTCTadkK8f49AN5gd",
      "include_colab_link": true
    },
    "kernelspec": {
      "name": "python3",
      "display_name": "Python 3"
    },
    "language_info": {
      "name": "python"
    }
  },
  "cells": [
    {
      "cell_type": "markdown",
      "metadata": {
        "id": "view-in-github",
        "colab_type": "text"
      },
      "source": [
        "<a href=\"https://colab.research.google.com/github/LucasFreitas98/Gamer-SnakeXFrog---Python/blob/main/modelo_regressao_linear_iris.ipynb\" target=\"_parent\"><img src=\"https://colab.research.google.com/assets/colab-badge.svg\" alt=\"Open In Colab\"/></a>"
      ]
    },
    {
      "cell_type": "code",
      "execution_count": 1,
      "metadata": {
        "colab": {
          "base_uri": "https://localhost:8080/"
        },
        "id": "jpKNMgPrIeJ2",
        "outputId": "0d1de072-909e-41d6-edf4-c73f3553f115"
      },
      "outputs": [
        {
          "output_type": "stream",
          "name": "stdout",
          "text": [
            "Looking in indexes: https://pypi.org/simple, https://us-python.pkg.dev/colab-wheels/public/simple/\n",
            "Collecting pyspark\n",
            "  Downloading pyspark-3.3.0.tar.gz (281.3 MB)\n",
            "\u001b[K     |████████████████████████████████| 281.3 MB 47 kB/s \n",
            "\u001b[?25hCollecting py4j==0.10.9.5\n",
            "  Downloading py4j-0.10.9.5-py2.py3-none-any.whl (199 kB)\n",
            "\u001b[K     |████████████████████████████████| 199 kB 51.4 MB/s \n",
            "\u001b[?25hBuilding wheels for collected packages: pyspark\n",
            "  Building wheel for pyspark (setup.py) ... \u001b[?25l\u001b[?25hdone\n",
            "  Created wheel for pyspark: filename=pyspark-3.3.0-py2.py3-none-any.whl size=281764026 sha256=19e114c660d0e943844aded5517c1bc35e324340e3b2d481a1db33e9d95b92c4\n",
            "  Stored in directory: /root/.cache/pip/wheels/7a/8e/1b/f73a52650d2e5f337708d9f6a1750d451a7349a867f928b885\n",
            "Successfully built pyspark\n",
            "Installing collected packages: py4j, pyspark\n",
            "Successfully installed py4j-0.10.9.5 pyspark-3.3.0\n"
          ]
        }
      ],
      "source": [
        "pip install pyspark"
      ]
    },
    {
      "cell_type": "code",
      "source": [
        "from pyspark.ml.feature import RFormula\n",
        "from pyspark.ml.classification import NaiveBayes\n",
        "from pyspark.ml.evaluation import MulticlassClassificationEvaluator\n",
        "from pyspark.sql import SparkSession\n",
        "from pyspark.sql import *\n",
        "import pyspark\n",
        "import csv"
      ],
      "metadata": {
        "id": "1Np3PILQIzGM"
      },
      "execution_count": 2,
      "outputs": []
    },
    {
      "cell_type": "code",
      "source": [
        "spark=SparkSession.builder.master(\"local[*]\").appName(\"kaggle.com\").getOrCreate()"
      ],
      "metadata": {
        "id": "N24Zp8itNyw6"
      },
      "execution_count": 3,
      "outputs": []
    },
    {
      "cell_type": "code",
      "source": [
        "iris = spark.read.option(\"header\",True).csv(\"Iris.csv\", sep=\",\")"
      ],
      "metadata": {
        "id": "zP9JNh2KQLG3"
      },
      "execution_count": 5,
      "outputs": []
    },
    {
      "cell_type": "code",
      "source": [
        "iris.show(10)"
      ],
      "metadata": {
        "colab": {
          "base_uri": "https://localhost:8080/"
        },
        "id": "GPuKy21EQ0rW",
        "outputId": "c31bfb96-9c3e-4d34-a7d6-283c4b501e9c"
      },
      "execution_count": 6,
      "outputs": [
        {
          "output_type": "stream",
          "name": "stdout",
          "text": [
            "+---+-------------+------------+-------------+------------+-----------+\n",
            "| Id|SepalLengthCm|SepalWidthCm|PetalLengthCm|PetalWidthCm|    Species|\n",
            "+---+-------------+------------+-------------+------------+-----------+\n",
            "|  1|          5.1|         3.5|          1.4|         0.2|Iris-setosa|\n",
            "|  2|          4.9|         3.0|          1.4|         0.2|Iris-setosa|\n",
            "|  3|          4.7|         3.2|          1.3|         0.2|Iris-setosa|\n",
            "|  4|          4.6|         3.1|          1.5|         0.2|Iris-setosa|\n",
            "|  5|          5.0|         3.6|          1.4|         0.2|Iris-setosa|\n",
            "|  6|          5.4|         3.9|          1.7|         0.4|Iris-setosa|\n",
            "|  7|          4.6|         3.4|          1.4|         0.3|Iris-setosa|\n",
            "|  8|          5.0|         3.4|          1.5|         0.2|Iris-setosa|\n",
            "|  9|          4.4|         2.9|          1.4|         0.2|Iris-setosa|\n",
            "| 10|          4.9|         3.1|          1.5|         0.1|Iris-setosa|\n",
            "+---+-------------+------------+-------------+------------+-----------+\n",
            "only showing top 10 rows\n",
            "\n"
          ]
        }
      ]
    },
    {
      "cell_type": "code",
      "source": [
        "formula = RFormula(formula=\"Species ~ . \", featuresCol=\"features\", labelCol=\"label\", handleInvalid=\"skip\")"
      ],
      "metadata": {
        "id": "7xMqrOPyR6oT"
      },
      "execution_count": 9,
      "outputs": []
    },
    {
      "cell_type": "code",
      "source": [
        "iris_trans = formula.fit(iris).transform(iris).select(\"features\",\"label\")"
      ],
      "metadata": {
        "id": "Else6zlaTjaP"
      },
      "execution_count": 10,
      "outputs": []
    },
    {
      "cell_type": "code",
      "source": [
        "iris_trans.show(4)"
      ],
      "metadata": {
        "colab": {
          "base_uri": "https://localhost:8080/"
        },
        "id": "8xRcyCdkocBV",
        "outputId": "1042ed3f-7e01-4310-d680-64f7336fc928"
      },
      "execution_count": 11,
      "outputs": [
        {
          "output_type": "stream",
          "name": "stdout",
          "text": [
            "+--------------------+-----+\n",
            "|            features|label|\n",
            "+--------------------+-----+\n",
            "|(268,[0,150,192,2...|  0.0|\n",
            "|(268,[62,157,183,...|  0.0|\n",
            "|(268,[73,173,185,...|  0.0|\n",
            "|(268,[84,164,186,...|  0.0|\n",
            "+--------------------+-----+\n",
            "only showing top 4 rows\n",
            "\n"
          ]
        }
      ]
    },
    {
      "cell_type": "code",
      "source": [
        "iris_trans = formula.fit(iris).transform(iris).select(\"features\",\"label\")"
      ],
      "metadata": {
        "id": "EY4PozDLo2p8"
      },
      "execution_count": 12,
      "outputs": []
    },
    {
      "cell_type": "markdown",
      "source": [],
      "metadata": {
        "id": "O1kULgV2UQx4"
      }
    },
    {
      "cell_type": "code",
      "source": [
        "iris_trans.show(150)"
      ],
      "metadata": {
        "id": "VSyEBdCcpI_x"
      },
      "execution_count": null,
      "outputs": []
    },
    {
      "cell_type": "code",
      "source": [
        "irisTreino, irisTeste = iris_trans.randomSplit([.7,.3])"
      ],
      "metadata": {
        "id": "-MwLuxY-pVtN"
      },
      "execution_count": 16,
      "outputs": []
    },
    {
      "cell_type": "code",
      "source": [
        "nb = NaiveBayes(labelCol=\"label\",featuresCol=\"features\")"
      ],
      "metadata": {
        "id": "wsZngf9npoRq"
      },
      "execution_count": 17,
      "outputs": []
    },
    {
      "cell_type": "code",
      "source": [
        "modelo = nb.fit(irisTreino)"
      ],
      "metadata": {
        "id": "KI19ksI3p0FR"
      },
      "execution_count": 18,
      "outputs": []
    },
    {
      "cell_type": "code",
      "source": [
        "previsao = modelo.transform(irisTeste)"
      ],
      "metadata": {
        "id": "Zn4hyCZGp5nZ"
      },
      "execution_count": 19,
      "outputs": []
    },
    {
      "cell_type": "code",
      "source": [
        "previsao.show()"
      ],
      "metadata": {
        "colab": {
          "base_uri": "https://localhost:8080/"
        },
        "id": "WvQOJNkYqBfQ",
        "outputId": "409ec58e-b902-4f2f-ab76-24576962572c"
      },
      "execution_count": 20,
      "outputs": [
        {
          "output_type": "stream",
          "name": "stdout",
          "text": [
            "+--------------------+-----+--------------------+--------------------+----------+\n",
            "|            features|label|       rawPrediction|         probability|prediction|\n",
            "+--------------------+-----+--------------------+--------------------+----------+\n",
            "|(268,[2,152,184,2...|  1.0|[-30.869038624010...|[0.00352702466761...|       1.0|\n",
            "|(268,[6,151,188,2...|  2.0|[-30.869038624010...|[0.00826884641608...|       2.0|\n",
            "|(268,[10,180,188,...|  2.0|[-30.869038624010...|[0.07551642316390...|       1.0|\n",
            "|(268,[12,158,199,...|  0.0|[-23.835532139722...|[0.99870077623923...|       0.0|\n",
            "|(268,[17,152,190,...|  2.0|[-30.869038624010...|[0.03453014269790...|       2.0|\n",
            "|(268,[18,155,184,...|  2.0|[-30.869038624010...|[0.00720894055503...|       2.0|\n",
            "|(268,[22,168,194,...|  2.0|[-25.473140929123...|[0.01828496796117...|       2.0|\n",
            "|(268,[24,160,196,...|  2.0|[-31.562185804570...|[0.01265177469519...|       1.0|\n",
            "|(268,[33,156,184,...|  2.0|[-31.562185804570...|[0.00133525810899...|       2.0|\n",
            "|(268,[44,160,183,...|  2.0|[-29.952747892136...|[0.01522626672298...|       2.0|\n",
            "|(268,[47,153,186,...|  2.0|[-29.952747892136...|[0.03287451826613...|       2.0|\n",
            "|(268,[50,171,185,...|  2.0|[-29.952747892136...|[0.03717941234324...|       2.0|\n",
            "|(268,[54,163,183,...|  2.0|[-29.952747892136...|[0.01235026258325...|       2.0|\n",
            "|(268,[59,158,200,...|  0.0|[-26.592372504994...|[0.97992199169356...|       0.0|\n",
            "|(268,[61,152,193,...|  0.0|[-27.873306350456...|[0.83653231327575...|       0.0|\n",
            "|(268,[63,150,193,...|  0.0|[-24.982934592560...|[0.99491963196914...|       0.0|\n",
            "|(268,[64,158,187,...|  0.0|[-24.646462355939...|[0.99331731161212...|       0.0|\n",
            "|(268,[67,150,191,...|  0.0|[-28.384131974222...|[0.81102888620158...|       0.0|\n",
            "|(268,[69,149,183,...|  0.0|[-23.352877392923...|[0.99235406698083...|       0.0|\n",
            "|(268,[72,165,187,...|  0.0|[-23.260167994819...|[0.99832091228806...|       0.0|\n",
            "+--------------------+-----+--------------------+--------------------+----------+\n",
            "only showing top 20 rows\n",
            "\n"
          ]
        }
      ]
    },
    {
      "cell_type": "code",
      "source": [
        "avaliar = MulticlassClassificationEvaluator(predictionCol=\"prediction\",labelCol=\"label\",metricName=\"accuracy\")"
      ],
      "metadata": {
        "id": "WKUOEoQOqIWx"
      },
      "execution_count": 21,
      "outputs": []
    },
    {
      "cell_type": "code",
      "source": [
        "resultado = avaliar.evaluate(previsao)"
      ],
      "metadata": {
        "id": "r2mjVKwMqeBV"
      },
      "execution_count": 22,
      "outputs": []
    },
    {
      "cell_type": "code",
      "source": [
        "print (resultado)"
      ],
      "metadata": {
        "colab": {
          "base_uri": "https://localhost:8080/"
        },
        "id": "eQNJ4Sscqh0Q",
        "outputId": "8009cb9c-42fe-447f-e763-4ec9a873a394"
      },
      "execution_count": 23,
      "outputs": [
        {
          "output_type": "stream",
          "name": "stdout",
          "text": [
            "0.9302325581395349\n"
          ]
        }
      ]
    }
  ]
}